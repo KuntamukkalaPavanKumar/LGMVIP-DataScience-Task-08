{
 "cells": [
  {
   "cell_type": "markdown",
   "metadata": {},
   "source": [
    "## <center> LGMVIP_DS_ September_23_Task_Number_3-2 <center>\n",
    "## <center> Next Word Prediction <center>\n",
    "## <center> By K. Pavan Kumar <center>"
   ]
  },
  {
   "cell_type": "code",
   "execution_count": 1,
   "metadata": {
    "_cell_guid": "b1076dfc-b9ad-4769-8c92-a6c4dae69d19",
    "_uuid": "8f2839f25d086af736a60e9eeb907d3b93b6e0e5",
    "execution": {
     "iopub.execute_input": "2023-09-25T19:25:09.372548Z",
     "iopub.status.busy": "2023-09-25T19:25:09.372074Z",
     "iopub.status.idle": "2023-09-25T19:25:09.830796Z",
     "shell.execute_reply": "2023-09-25T19:25:09.829735Z",
     "shell.execute_reply.started": "2023-09-25T19:25:09.372504Z"
    }
   },
   "outputs": [],
   "source": [
    "# This Python 3 environment comes with many helpful analytics libraries installed\n",
    "# It is defined by the kaggle/python Docker image: https://github.com/kaggle/docker-python\n",
    "# For example, here's several helpful packages to load\n",
    "\n",
    "import numpy as np # linear algebra\n",
    "import pandas as pd # data processing, CSV file I/O (e.g. pd.read_csv)\n",
    "\n",
    "# Input data files are available in the read-only \"../input/\" directory\n",
    "# For example, running this (by clicking run or pressing Shift+Enter) will list all files under the input directory\n",
    "\n",
    "import os\n",
    "#for dirname, _, filenames in os.walk('/kaggle/input'):\n",
    " #   for filename in filenames:\n",
    "  #      print(os.path.join(dirname, filename))\n",
    "\n",
    "# You can write up to 20GB to the current directory (/kaggle/working/) that gets preserved as output when you create a version using \"Save & Run All\" \n",
    "# You can also write temporary files to /kaggle/temp/, but they won't be saved outside of the current session"
   ]
  },
  {
   "cell_type": "markdown",
   "metadata": {},
   "source": [
    "## Importing Libraries"
   ]
  },
  {
   "cell_type": "code",
   "execution_count": 24,
   "metadata": {
    "execution": {
     "iopub.execute_input": "2023-09-25T19:27:19.726437Z",
     "iopub.status.busy": "2023-09-25T19:27:19.726068Z",
     "iopub.status.idle": "2023-09-25T19:27:19.733299Z",
     "shell.execute_reply": "2023-09-25T19:27:19.732060Z",
     "shell.execute_reply.started": "2023-09-25T19:27:19.726406Z"
    }
   },
   "outputs": [],
   "source": [
    "import numpy as np\n",
    "import pandas as pd\n",
    "import matplotlib.pyplot as plt\n",
    "import seaborn as sns\n",
    "import warnings\n",
    "warnings.filterwarnings('ignore')\n",
    "import nltk\n",
    "from nltk.tokenize import word_tokenize\n",
    "import re\n",
    "from keras.models import Sequential\n",
    "from keras.layers import LSTM, Dense, GRU, Dropout, Activation, BatchNormalization, SimpleRNN\n",
    "from tensorflow.keras.optimizers import RMSprop"
   ]
  },
  {
   "cell_type": "code",
   "execution_count": 3,
   "metadata": {
    "execution": {
     "iopub.execute_input": "2023-09-25T19:25:27.807457Z",
     "iopub.status.busy": "2023-09-25T19:25:27.806712Z",
     "iopub.status.idle": "2023-09-25T19:25:27.813534Z",
     "shell.execute_reply": "2023-09-25T19:25:27.812363Z",
     "shell.execute_reply.started": "2023-09-25T19:25:27.807422Z"
    }
   },
   "outputs": [],
   "source": [
    "file='/kaggle/input/next-word-prediction-dataset/1661-0.txt'"
   ]
  },
  {
   "cell_type": "code",
   "execution_count": 4,
   "metadata": {
    "execution": {
     "iopub.execute_input": "2023-09-25T19:25:27.816709Z",
     "iopub.status.busy": "2023-09-25T19:25:27.816138Z",
     "iopub.status.idle": "2023-09-25T19:25:27.856585Z",
     "shell.execute_reply": "2023-09-25T19:25:27.855715Z",
     "shell.execute_reply.started": "2023-09-25T19:25:27.816654Z"
    }
   },
   "outputs": [],
   "source": [
    "# reading file and conveting it to lower case\n",
    "text=open(file).read().lower()"
   ]
  },
  {
   "cell_type": "code",
   "execution_count": 5,
   "metadata": {
    "execution": {
     "iopub.execute_input": "2023-09-25T19:25:27.858838Z",
     "iopub.status.busy": "2023-09-25T19:25:27.858121Z",
     "iopub.status.idle": "2023-09-25T19:25:27.864316Z",
     "shell.execute_reply": "2023-09-25T19:25:27.863160Z",
     "shell.execute_reply.started": "2023-09-25T19:25:27.858803Z"
    }
   },
   "outputs": [
    {
     "name": "stdout",
     "output_type": "stream",
     "text": [
      "Length of Corpus is:  581888\n"
     ]
    }
   ],
   "source": [
    "print('Length of Corpus is: ',len(text))"
   ]
  },
  {
   "cell_type": "code",
   "execution_count": 6,
   "metadata": {
    "execution": {
     "iopub.execute_input": "2023-09-25T19:25:27.866751Z",
     "iopub.status.busy": "2023-09-25T19:25:27.866039Z",
     "iopub.status.idle": "2023-09-25T19:25:27.921409Z",
     "shell.execute_reply": "2023-09-25T19:25:27.920420Z",
     "shell.execute_reply.started": "2023-09-25T19:25:27.866716Z"
    }
   },
   "outputs": [],
   "source": [
    "words1=re.findall(r'[a-zA-Z]+',text)"
   ]
  },
  {
   "cell_type": "code",
   "execution_count": 7,
   "metadata": {
    "execution": {
     "iopub.execute_input": "2023-09-25T19:25:27.923952Z",
     "iopub.status.busy": "2023-09-25T19:25:27.922535Z",
     "iopub.status.idle": "2023-09-25T19:25:27.983488Z",
     "shell.execute_reply": "2023-09-25T19:25:27.982515Z",
     "shell.execute_reply.started": "2023-09-25T19:25:27.923920Z"
    }
   },
   "outputs": [],
   "source": [
    "# Extracting words only made up of alphabets\n",
    "filtered_text=\" \".join(re.findall(r'[a-zA-Z]+',text))"
   ]
  },
  {
   "cell_type": "code",
   "execution_count": 8,
   "metadata": {
    "execution": {
     "iopub.execute_input": "2023-09-25T19:25:27.987013Z",
     "iopub.status.busy": "2023-09-25T19:25:27.986726Z",
     "iopub.status.idle": "2023-09-25T19:25:28.792148Z",
     "shell.execute_reply": "2023-09-25T19:25:28.791079Z",
     "shell.execute_reply.started": "2023-09-25T19:25:27.986979Z"
    }
   },
   "outputs": [],
   "source": [
    "# Tokenizing filtered_text into words\n",
    "words=word_tokenize(filtered_text)"
   ]
  },
  {
   "cell_type": "code",
   "execution_count": 9,
   "metadata": {
    "execution": {
     "iopub.execute_input": "2023-09-25T19:25:28.796482Z",
     "iopub.status.busy": "2023-09-25T19:25:28.796170Z",
     "iopub.status.idle": "2023-09-25T19:25:28.873491Z",
     "shell.execute_reply": "2023-09-25T19:25:28.872576Z",
     "shell.execute_reply.started": "2023-09-25T19:25:28.796455Z"
    }
   },
   "outputs": [],
   "source": [
    "unique_words=np.unique(words)"
   ]
  },
  {
   "cell_type": "code",
   "execution_count": 10,
   "metadata": {
    "execution": {
     "iopub.execute_input": "2023-09-25T19:25:28.875460Z",
     "iopub.status.busy": "2023-09-25T19:25:28.875059Z",
     "iopub.status.idle": "2023-09-25T19:25:28.950013Z",
     "shell.execute_reply": "2023-09-25T19:25:28.948972Z",
     "shell.execute_reply.started": "2023-09-25T19:25:28.875428Z"
    }
   },
   "outputs": [
    {
     "data": {
      "text/plain": [
       "8081"
      ]
     },
     "execution_count": 10,
     "metadata": {},
     "output_type": "execute_result"
    }
   ],
   "source": [
    "len(np.unique(words))"
   ]
  },
  {
   "cell_type": "code",
   "execution_count": 11,
   "metadata": {
    "execution": {
     "iopub.execute_input": "2023-09-25T19:25:28.952000Z",
     "iopub.status.busy": "2023-09-25T19:25:28.951604Z",
     "iopub.status.idle": "2023-09-25T19:25:28.963973Z",
     "shell.execute_reply": "2023-09-25T19:25:28.962884Z",
     "shell.execute_reply.started": "2023-09-25T19:25:28.951968Z"
    }
   },
   "outputs": [],
   "source": [
    "# forming a dictionary which consist of unique words as index and index numbers as values\n",
    "unique_words_dict=dict((j,i) for i, j in enumerate(unique_words))"
   ]
  },
  {
   "cell_type": "markdown",
   "metadata": {},
   "source": [
    "## Feature Engineering:"
   ]
  },
  {
   "cell_type": "code",
   "execution_count": 12,
   "metadata": {
    "execution": {
     "iopub.execute_input": "2023-09-25T19:25:28.965935Z",
     "iopub.status.busy": "2023-09-25T19:25:28.965358Z",
     "iopub.status.idle": "2023-09-25T19:25:29.260603Z",
     "shell.execute_reply": "2023-09-25T19:25:29.259576Z",
     "shell.execute_reply.started": "2023-09-25T19:25:28.965902Z"
    }
   },
   "outputs": [],
   "source": [
    "# number_words signifies the sequence length of the sentence\n",
    "number_words=5\n",
    "prev_words=[] #initialising empty list of previous words\n",
    "next_word=[] #initialising empty list of next words\n",
    "for i in range(len(words)-number_words): #Ensures we only get sentences containing only 5 words\n",
    "    prev_words.append(words[i:i+number_words])\n",
    "    next_word.append(words[i+number_words])"
   ]
  },
  {
   "cell_type": "code",
   "execution_count": 13,
   "metadata": {
    "execution": {
     "iopub.execute_input": "2023-09-25T19:25:29.262298Z",
     "iopub.status.busy": "2023-09-25T19:25:29.261925Z",
     "iopub.status.idle": "2023-09-25T19:25:29.269560Z",
     "shell.execute_reply": "2023-09-25T19:25:29.268411Z",
     "shell.execute_reply.started": "2023-09-25T19:25:29.262262Z"
    }
   },
   "outputs": [
    {
     "name": "stdout",
     "output_type": "stream",
     "text": [
      "['adventures', 'of', 'sherlock', 'holmes', 'by']\n",
      "arthur\n"
     ]
    }
   ],
   "source": [
    "print(prev_words[4])\n",
    "print(next_word[4])"
   ]
  },
  {
   "cell_type": "code",
   "execution_count": 14,
   "metadata": {
    "execution": {
     "iopub.execute_input": "2023-09-25T19:25:29.272323Z",
     "iopub.status.busy": "2023-09-25T19:25:29.271440Z",
     "iopub.status.idle": "2023-09-25T19:25:29.280590Z",
     "shell.execute_reply": "2023-09-25T19:25:29.279280Z",
     "shell.execute_reply.started": "2023-09-25T19:25:29.272284Z"
    }
   },
   "outputs": [],
   "source": [
    "#Initialising X and Y\n",
    "#X with shape of 1st value suggesting number of samples, 2nd value suggesting number of words in sentence,\n",
    "#3rd value suggesting length of unique words and we are converting it to boolean type\n",
    "X=np.zeros((len(prev_words),number_words,len(unique_words)),dtype='bool')\n",
    "Y=np.zeros((len(next_word),len(unique_words)),dtype='bool')"
   ]
  },
  {
   "cell_type": "code",
   "execution_count": 15,
   "metadata": {
    "execution": {
     "iopub.execute_input": "2023-09-25T19:25:29.282738Z",
     "iopub.status.busy": "2023-09-25T19:25:29.282293Z",
     "iopub.status.idle": "2023-09-25T19:25:29.302389Z",
     "shell.execute_reply": "2023-09-25T19:25:29.301319Z",
     "shell.execute_reply.started": "2023-09-25T19:25:29.282702Z"
    }
   },
   "outputs": [
    {
     "data": {
      "text/plain": [
       "(109071, 5, 8081)"
      ]
     },
     "execution_count": 15,
     "metadata": {},
     "output_type": "execute_result"
    }
   ],
   "source": [
    "X.shape"
   ]
  },
  {
   "cell_type": "code",
   "execution_count": 16,
   "metadata": {
    "execution": {
     "iopub.execute_input": "2023-09-25T19:25:29.304308Z",
     "iopub.status.busy": "2023-09-25T19:25:29.303954Z",
     "iopub.status.idle": "2023-09-25T19:25:29.314762Z",
     "shell.execute_reply": "2023-09-25T19:25:29.313733Z",
     "shell.execute_reply.started": "2023-09-25T19:25:29.304278Z"
    }
   },
   "outputs": [
    {
     "data": {
      "text/plain": [
       "(109071, 8081)"
      ]
     },
     "execution_count": 16,
     "metadata": {},
     "output_type": "execute_result"
    }
   ],
   "source": [
    "Y.shape"
   ]
  },
  {
   "cell_type": "code",
   "execution_count": 17,
   "metadata": {
    "execution": {
     "iopub.execute_input": "2023-09-25T19:25:29.316658Z",
     "iopub.status.busy": "2023-09-25T19:25:29.316333Z",
     "iopub.status.idle": "2023-09-25T19:25:31.341904Z",
     "shell.execute_reply": "2023-09-25T19:25:31.340883Z",
     "shell.execute_reply.started": "2023-09-25T19:25:29.316627Z"
    }
   },
   "outputs": [],
   "source": [
    "for i, words in enumerate(prev_words):\n",
    "    for j , every_word in enumerate(words):\n",
    "        # 'i' means we entered a sentence out of so many samples\n",
    "        # 'j' means we entered a word in that sentence\n",
    "        # Now we are forming a bag of words matrix for that word by assigning index of that word\n",
    "        # from unique_words_dict a value of 1.\n",
    "        X[i,j,unique_words_dict[every_word]]=1\n",
    "    Y[i,unique_words_dict[next_word[i]]]=1"
   ]
  },
  {
   "cell_type": "code",
   "execution_count": 18,
   "metadata": {
    "execution": {
     "iopub.execute_input": "2023-09-25T19:25:31.343934Z",
     "iopub.status.busy": "2023-09-25T19:25:31.343538Z",
     "iopub.status.idle": "2023-09-25T19:25:31.350981Z",
     "shell.execute_reply": "2023-09-25T19:25:31.349888Z",
     "shell.execute_reply.started": "2023-09-25T19:25:31.343882Z"
    }
   },
   "outputs": [
    {
     "data": {
      "text/plain": [
       "(5, 8081)"
      ]
     },
     "execution_count": 18,
     "metadata": {},
     "output_type": "execute_result"
    }
   ],
   "source": [
    "X[1].shape"
   ]
  },
  {
   "cell_type": "code",
   "execution_count": 19,
   "metadata": {
    "execution": {
     "iopub.execute_input": "2023-09-25T19:25:31.353035Z",
     "iopub.status.busy": "2023-09-25T19:25:31.352609Z",
     "iopub.status.idle": "2023-09-25T19:25:31.365045Z",
     "shell.execute_reply": "2023-09-25T19:25:31.364022Z",
     "shell.execute_reply.started": "2023-09-25T19:25:31.353003Z"
    }
   },
   "outputs": [
    {
     "data": {
      "text/plain": [
       "(array([0, 1, 2, 3, 4]), array([3273, 6039, 7139,  132, 4844]))"
      ]
     },
     "execution_count": 19,
     "metadata": {},
     "output_type": "execute_result"
    }
   ],
   "source": [
    "np.where(X[1]==True)"
   ]
  },
  {
   "cell_type": "markdown",
   "metadata": {},
   "source": [
    "## Model Building:"
   ]
  },
  {
   "cell_type": "code",
   "execution_count": 20,
   "metadata": {
    "execution": {
     "iopub.execute_input": "2023-09-25T19:25:31.367321Z",
     "iopub.status.busy": "2023-09-25T19:25:31.366865Z",
     "iopub.status.idle": "2023-09-25T19:25:37.945644Z",
     "shell.execute_reply": "2023-09-25T19:25:37.944496Z",
     "shell.execute_reply.started": "2023-09-25T19:25:31.367281Z"
    }
   },
   "outputs": [],
   "source": [
    "model=Sequential()"
   ]
  },
  {
   "cell_type": "code",
   "execution_count": 25,
   "metadata": {
    "execution": {
     "iopub.execute_input": "2023-09-25T19:27:30.335037Z",
     "iopub.status.busy": "2023-09-25T19:27:30.334617Z",
     "iopub.status.idle": "2023-09-25T19:27:30.526473Z",
     "shell.execute_reply": "2023-09-25T19:27:30.525319Z",
     "shell.execute_reply.started": "2023-09-25T19:27:30.335006Z"
    }
   },
   "outputs": [],
   "source": [
    "model.add(SimpleRNN(128,input_shape=(number_words,len(unique_words))))\n",
    "model.add(Dense(len(unique_words)))\n",
    "model.add(Activation('softmax'))"
   ]
  },
  {
   "cell_type": "code",
   "execution_count": 26,
   "metadata": {
    "execution": {
     "iopub.execute_input": "2023-09-25T19:27:32.272463Z",
     "iopub.status.busy": "2023-09-25T19:27:32.271915Z",
     "iopub.status.idle": "2023-09-25T19:27:32.300174Z",
     "shell.execute_reply": "2023-09-25T19:27:32.299363Z",
     "shell.execute_reply.started": "2023-09-25T19:27:32.272390Z"
    }
   },
   "outputs": [
    {
     "name": "stdout",
     "output_type": "stream",
     "text": [
      "Model: \"sequential\"\n",
      "_________________________________________________________________\n",
      " Layer (type)                Output Shape              Param #   \n",
      "=================================================================\n",
      " simple_rnn (SimpleRNN)      (None, 128)               1050880   \n",
      "                                                                 \n",
      " dense (Dense)               (None, 8081)              1042449   \n",
      "                                                                 \n",
      " activation (Activation)     (None, 8081)              0         \n",
      "                                                                 \n",
      "=================================================================\n",
      "Total params: 2,093,329\n",
      "Trainable params: 2,093,329\n",
      "Non-trainable params: 0\n",
      "_________________________________________________________________\n"
     ]
    }
   ],
   "source": [
    "model.summary()"
   ]
  },
  {
   "cell_type": "code",
   "execution_count": 27,
   "metadata": {
    "execution": {
     "iopub.execute_input": "2023-09-25T19:27:33.941834Z",
     "iopub.status.busy": "2023-09-25T19:27:33.941441Z",
     "iopub.status.idle": "2023-09-25T19:27:33.962510Z",
     "shell.execute_reply": "2023-09-25T19:27:33.961595Z",
     "shell.execute_reply.started": "2023-09-25T19:27:33.941803Z"
    }
   },
   "outputs": [],
   "source": [
    "model.compile(optimizer='Adam',loss='categorical_crossentropy',metrics=['accuracy'])"
   ]
  },
  {
   "cell_type": "markdown",
   "metadata": {},
   "source": [
    "## Model Training:"
   ]
  },
  {
   "cell_type": "code",
   "execution_count": 28,
   "metadata": {
    "execution": {
     "iopub.execute_input": "2023-09-25T19:27:35.150306Z",
     "iopub.status.busy": "2023-09-25T19:27:35.149622Z",
     "iopub.status.idle": "2023-09-25T19:32:05.852385Z",
     "shell.execute_reply": "2023-09-25T19:32:05.851330Z",
     "shell.execute_reply.started": "2023-09-25T19:27:35.150271Z"
    }
   },
   "outputs": [
    {
     "name": "stdout",
     "output_type": "stream",
     "text": [
      "Epoch 1/30\n",
      "597/597 [==============================] - 19s 20ms/step - loss: 6.6755 - accuracy: 0.0546 - val_loss: 6.6801 - val_accuracy: 0.0560\n",
      "Epoch 2/30\n",
      "597/597 [==============================] - 7s 12ms/step - loss: 6.2118 - accuracy: 0.0688 - val_loss: 6.4966 - val_accuracy: 0.0668\n",
      "Epoch 3/30\n",
      "597/597 [==============================] - 8s 14ms/step - loss: 5.8382 - accuracy: 0.0979 - val_loss: 6.3534 - val_accuracy: 0.0910\n",
      "Epoch 4/30\n",
      "597/597 [==============================] - 8s 14ms/step - loss: 5.4753 - accuracy: 0.1242 - val_loss: 6.3329 - val_accuracy: 0.0967\n",
      "Epoch 5/30\n",
      "597/597 [==============================] - 8s 13ms/step - loss: 5.1439 - accuracy: 0.1490 - val_loss: 6.4191 - val_accuracy: 0.0964\n",
      "Epoch 6/30\n",
      "597/597 [==============================] - 7s 12ms/step - loss: 4.8233 - accuracy: 0.1759 - val_loss: 6.4501 - val_accuracy: 0.0939\n",
      "Epoch 7/30\n",
      "597/597 [==============================] - 8s 14ms/step - loss: 4.5097 - accuracy: 0.2063 - val_loss: 6.5650 - val_accuracy: 0.0903\n",
      "Epoch 8/30\n",
      "597/597 [==============================] - 7s 13ms/step - loss: 4.2043 - accuracy: 0.2390 - val_loss: 6.7079 - val_accuracy: 0.0858\n",
      "Epoch 9/30\n",
      "597/597 [==============================] - 9s 14ms/step - loss: 3.9039 - accuracy: 0.2783 - val_loss: 6.8248 - val_accuracy: 0.0817\n",
      "Epoch 10/30\n",
      "597/597 [==============================] - 8s 14ms/step - loss: 3.6131 - accuracy: 0.3207 - val_loss: 6.9650 - val_accuracy: 0.0794\n",
      "Epoch 11/30\n",
      "597/597 [==============================] - 7s 12ms/step - loss: 3.3378 - accuracy: 0.3616 - val_loss: 7.1289 - val_accuracy: 0.0774\n",
      "Epoch 12/30\n",
      "597/597 [==============================] - 7s 12ms/step - loss: 3.0759 - accuracy: 0.4062 - val_loss: 7.2719 - val_accuracy: 0.0748\n",
      "Epoch 13/30\n",
      "597/597 [==============================] - 8s 13ms/step - loss: 2.8340 - accuracy: 0.4482 - val_loss: 7.4426 - val_accuracy: 0.0733\n",
      "Epoch 14/30\n",
      "597/597 [==============================] - 8s 14ms/step - loss: 2.6163 - accuracy: 0.4867 - val_loss: 7.5579 - val_accuracy: 0.0697\n",
      "Epoch 15/30\n",
      "597/597 [==============================] - 8s 14ms/step - loss: 2.4179 - accuracy: 0.5233 - val_loss: 7.7203 - val_accuracy: 0.0714\n",
      "Epoch 16/30\n",
      "597/597 [==============================] - 7s 12ms/step - loss: 2.2409 - accuracy: 0.5554 - val_loss: 7.8537 - val_accuracy: 0.0674\n",
      "Epoch 17/30\n",
      "597/597 [==============================] - 8s 14ms/step - loss: 2.0822 - accuracy: 0.5846 - val_loss: 7.9888 - val_accuracy: 0.0694\n",
      "Epoch 18/30\n",
      "597/597 [==============================] - 8s 14ms/step - loss: 1.9390 - accuracy: 0.6111 - val_loss: 8.1222 - val_accuracy: 0.0655\n",
      "Epoch 19/30\n",
      "597/597 [==============================] - 7s 12ms/step - loss: 1.8112 - accuracy: 0.6355 - val_loss: 8.2708 - val_accuracy: 0.0656\n",
      "Epoch 20/30\n",
      "597/597 [==============================] - 8s 14ms/step - loss: 1.6943 - accuracy: 0.6574 - val_loss: 8.3857 - val_accuracy: 0.0639\n",
      "Epoch 21/30\n",
      "597/597 [==============================] - 8s 13ms/step - loss: 1.5867 - accuracy: 0.6769 - val_loss: 8.5097 - val_accuracy: 0.0621\n",
      "Epoch 22/30\n",
      "597/597 [==============================] - 7s 12ms/step - loss: 1.4907 - accuracy: 0.6949 - val_loss: 8.6290 - val_accuracy: 0.0610\n",
      "Epoch 23/30\n",
      "597/597 [==============================] - 7s 12ms/step - loss: 1.4026 - accuracy: 0.7123 - val_loss: 8.7465 - val_accuracy: 0.0636\n",
      "Epoch 24/30\n",
      "597/597 [==============================] - 8s 14ms/step - loss: 1.3181 - accuracy: 0.7298 - val_loss: 8.8863 - val_accuracy: 0.0615\n",
      "Epoch 25/30\n",
      "597/597 [==============================] - 8s 14ms/step - loss: 1.2460 - accuracy: 0.7431 - val_loss: 9.0028 - val_accuracy: 0.0619\n",
      "Epoch 26/30\n",
      "597/597 [==============================] - 8s 14ms/step - loss: 1.1782 - accuracy: 0.7563 - val_loss: 9.1132 - val_accuracy: 0.0615\n",
      "Epoch 27/30\n",
      "597/597 [==============================] - 7s 12ms/step - loss: 1.1139 - accuracy: 0.7698 - val_loss: 9.2362 - val_accuracy: 0.0604\n",
      "Epoch 28/30\n",
      "597/597 [==============================] - 7s 12ms/step - loss: 1.0560 - accuracy: 0.7799 - val_loss: 9.3589 - val_accuracy: 0.0568\n",
      "Epoch 29/30\n",
      "597/597 [==============================] - 8s 14ms/step - loss: 0.9982 - accuracy: 0.7920 - val_loss: 9.4616 - val_accuracy: 0.0591\n",
      "Epoch 30/30\n",
      "597/597 [==============================] - 7s 12ms/step - loss: 0.9497 - accuracy: 0.8012 - val_loss: 9.5786 - val_accuracy: 0.0595\n"
     ]
    }
   ],
   "source": [
    "history=model.fit(X,Y,validation_split=0.30,batch_size=128,epochs=30,shuffle=True)"
   ]
  },
  {
   "cell_type": "markdown",
   "metadata": {},
   "source": [
    "## Predicting Next Word:"
   ]
  },
  {
   "cell_type": "code",
   "execution_count": 29,
   "metadata": {
    "execution": {
     "iopub.execute_input": "2023-09-25T19:33:29.073084Z",
     "iopub.status.busy": "2023-09-25T19:33:29.072649Z",
     "iopub.status.idle": "2023-09-25T19:33:29.079931Z",
     "shell.execute_reply": "2023-09-25T19:33:29.078747Z",
     "shell.execute_reply.started": "2023-09-25T19:33:29.073052Z"
    }
   },
   "outputs": [],
   "source": [
    "def predict_next_word(input,best_word=5):\n",
    "    input=input.lower()\n",
    "    X=np.zeros((1,number_words,len(unique_words)))\n",
    "    for i, word in enumerate(input.split()):\n",
    "        X[0,i,unique_words_dict[word]]=1\n",
    "    prediction=model.predict(X)\n",
    "    return np.argpartition(prediction,-best_word)"
   ]
  },
  {
   "cell_type": "code",
   "execution_count": 34,
   "metadata": {
    "execution": {
     "iopub.execute_input": "2023-09-25T19:34:02.099834Z",
     "iopub.status.busy": "2023-09-25T19:34:02.099416Z",
     "iopub.status.idle": "2023-09-25T19:34:02.165955Z",
     "shell.execute_reply": "2023-09-25T19:34:02.164842Z",
     "shell.execute_reply.started": "2023-09-25T19:34:02.099800Z"
    }
   },
   "outputs": [
    {
     "name": "stdout",
     "output_type": "stream",
     "text": [
      "1/1 [==============================] - 0s 20ms/step\n"
     ]
    }
   ],
   "source": [
    "possible_words=predict_next_word('author of sherlock holmes')[0][:5]"
   ]
  },
  {
   "cell_type": "code",
   "execution_count": 35,
   "metadata": {
    "execution": {
     "iopub.execute_input": "2023-09-25T19:34:03.262811Z",
     "iopub.status.busy": "2023-09-25T19:34:03.262398Z",
     "iopub.status.idle": "2023-09-25T19:34:03.271763Z",
     "shell.execute_reply": "2023-09-25T19:34:03.270543Z",
     "shell.execute_reply.started": "2023-09-25T19:34:03.262777Z"
    }
   },
   "outputs": [
    {
     "data": {
      "text/plain": [
       "['murmured', 'zip', 'zigzag', 'abbots', 'aberdeen']"
      ]
     },
     "execution_count": 35,
     "metadata": {},
     "output_type": "execute_result"
    }
   ],
   "source": [
    "# The best possible 5 words predicted as next word by the model\n",
    "[unique_words[i] for i in possible_words]"
   ]
  },
  {
   "cell_type": "code",
   "execution_count": null,
   "metadata": {},
   "outputs": [],
   "source": []
  },
  {
   "cell_type": "code",
   "execution_count": null,
   "metadata": {},
   "outputs": [],
   "source": []
  }
 ],
 "metadata": {
  "kernelspec": {
   "display_name": "Python 3 (ipykernel)",
   "language": "python",
   "name": "python3"
  },
  "language_info": {
   "codemirror_mode": {
    "name": "ipython",
    "version": 3
   },
   "file_extension": ".py",
   "mimetype": "text/x-python",
   "name": "python",
   "nbconvert_exporter": "python",
   "pygments_lexer": "ipython3",
   "version": "3.10.9"
  }
 },
 "nbformat": 4,
 "nbformat_minor": 4
}
